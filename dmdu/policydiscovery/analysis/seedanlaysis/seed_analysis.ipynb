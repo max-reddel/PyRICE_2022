{
 "cells": [
  {
   "cell_type": "markdown",
   "metadata": {
    "collapsed": false,
    "pycharm": {
     "name": "#%% md\n"
    }
   },
   "source": [
    "# Seed Analysis\n",
    "\n",
    "In this notebook, we load the Pareto-optimal policies for each problem formulation per seed and compare whether the resulting pathways differ or not between the seeds."
   ]
  },
  {
   "cell_type": "code",
   "execution_count": 1,
   "metadata": {
    "collapsed": false,
    "pycharm": {
     "name": "#%%\n"
    }
   },
   "outputs": [
    {
     "ename": "ModuleNotFoundError",
     "evalue": "No module named 'dmdu'",
     "output_type": "error",
     "traceback": [
      "\u001b[0;31m---------------------------------------------------------------------------\u001b[0m",
      "\u001b[0;31mModuleNotFoundError\u001b[0m                       Traceback (most recent call last)",
      "\u001b[1;32m/Users/palokbiswas/Library/CloudStorage/OneDrive-Personal/AI_NL_PhD_2022/CURRENT_22-23-RICE/PyRICE_Max_New/PyRICE_2022/dmdu/policydiscovery/analysis/seedanlaysis/seed_analysis.ipynb Cell 2'\u001b[0m in \u001b[0;36m<cell line: 4>\u001b[0;34m()\u001b[0m\n\u001b[1;32m      <a href='vscode-notebook-cell:/Users/palokbiswas/Library/CloudStorage/OneDrive-Personal/AI_NL_PhD_2022/CURRENT_22-23-RICE/PyRICE_Max_New/PyRICE_2022/dmdu/policydiscovery/analysis/seedanlaysis/seed_analysis.ipynb#ch0000001?line=1'>2</a>\u001b[0m \u001b[39mimport\u001b[39;00m \u001b[39mpandas\u001b[39;00m \u001b[39mas\u001b[39;00m \u001b[39mpd\u001b[39;00m\n\u001b[1;32m      <a href='vscode-notebook-cell:/Users/palokbiswas/Library/CloudStorage/OneDrive-Personal/AI_NL_PhD_2022/CURRENT_22-23-RICE/PyRICE_Max_New/PyRICE_2022/dmdu/policydiscovery/analysis/seedanlaysis/seed_analysis.ipynb#ch0000001?line=2'>3</a>\u001b[0m \u001b[39mfrom\u001b[39;00m \u001b[39mema_workbench\u001b[39;00m \u001b[39mimport\u001b[39;00m load_results\n\u001b[0;32m----> <a href='vscode-notebook-cell:/Users/palokbiswas/Library/CloudStorage/OneDrive-Personal/AI_NL_PhD_2022/CURRENT_22-23-RICE/PyRICE_Max_New/PyRICE_2022/dmdu/policydiscovery/analysis/seedanlaysis/seed_analysis.ipynb#ch0000001?line=3'>4</a>\u001b[0m \u001b[39mfrom\u001b[39;00m \u001b[39mdmdu\u001b[39;00m\u001b[39m.\u001b[39;00m\u001b[39mgeneral\u001b[39;00m\u001b[39m.\u001b[39;00m\u001b[39mvisualization\u001b[39;00m \u001b[39mimport\u001b[39;00m plot_kpi_pathways_with_seeds, Orientation\n",
      "\u001b[0;31mModuleNotFoundError\u001b[0m: No module named 'dmdu'"
     ]
    }
   ],
   "source": [
    "import os\n",
    "import pandas as pd\n",
    "from ema_workbench import load_results\n",
    "from dmdu.general.visualization import plot_kpi_pathways_with_seeds, Orientation"
   ]
  },
  {
   "cell_type": "markdown",
   "metadata": {
    "collapsed": false,
    "pycharm": {
     "name": "#%% md\n"
    }
   },
   "source": [
    "## Identify existing files from experiments with Pareto-optimal policies"
   ]
  },
  {
   "cell_type": "code",
   "execution_count": 3,
   "metadata": {
    "collapsed": false,
    "pycharm": {
     "name": "#%%\n"
    }
   },
   "outputs": [
    {
     "name": "stdout",
     "output_type": "stream",
     "text": [
      "/Users/palokbiswas/Library/CloudStorage/OneDrive-Personal/AI_NL_PhD_2022/CURRENT_22-23-RICE/PyRICE_Max_New/PyRICE_2022/dmdu/policydiscovery/data/experiments\n"
     ]
    },
    {
     "data": {
      "text/plain": [
       "['SUFFICIENTARIAN_DISAGGREGATED_seed_1_reference_1',\n",
       " 'SUFFICIENTARIAN_DISAGGREGATED_seed_1_reference_0',\n",
       " 'SUFFICIENTARIAN_DISAGGREGATED_seed_0_reference_3',\n",
       " 'SUFFICIENTARIAN_DISAGGREGATED_seed_0_reference_2',\n",
       " 'UTILITARIAN_DISAGGREGATED_seed_1_reference_3',\n",
       " 'UTILITARIAN_AGGREGATED_seed_1_reference_3',\n",
       " 'SUFFICIENTARIAN_AGGREGATED_seed_1_reference_0',\n",
       " 'SUFFICIENTARIAN_AGGREGATED_seed_1_reference_1',\n",
       " 'UTILITARIAN_AGGREGATED_seed_1_reference_2',\n",
       " 'UTILITARIAN_DISAGGREGATED_seed_1_reference_2',\n",
       " 'SUFFICIENTARIAN_AGGREGATED_seed_0_reference_2',\n",
       " 'UTILITARIAN_DISAGGREGATED_seed_0_reference_1',\n",
       " 'UTILITARIAN_AGGREGATED_seed_0_reference_1',\n",
       " 'UTILITARIAN_AGGREGATED_seed_0_reference_0',\n",
       " 'UTILITARIAN_DISAGGREGATED_seed_0_reference_0',\n",
       " 'SUFFICIENTARIAN_AGGREGATED_seed_0_reference_3',\n",
       " 'SUFFICIENTARIAN_DISAGGREGATED_seed_1_reference_2',\n",
       " 'SUFFICIENTARIAN_DISAGGREGATED_seed_1_reference_3',\n",
       " 'SUFFICIENTARIAN_DISAGGREGATED_seed_0_reference_0',\n",
       " 'SUFFICIENTARIAN_DISAGGREGATED_seed_0_reference_1',\n",
       " 'SUFFICIENTARIAN_AGGREGATED_seed_1_reference_3',\n",
       " 'UTILITARIAN_DISAGGREGATED_seed_1_reference_0',\n",
       " 'UTILITARIAN_AGGREGATED_seed_1_reference_0',\n",
       " 'UTILITARIAN_AGGREGATED_seed_1_reference_1',\n",
       " 'UTILITARIAN_DISAGGREGATED_seed_1_reference_1',\n",
       " 'SUFFICIENTARIAN_AGGREGATED_seed_1_reference_2',\n",
       " 'UTILITARIAN_DISAGGREGATED_seed_0_reference_2',\n",
       " 'UTILITARIAN_AGGREGATED_seed_0_reference_2',\n",
       " 'SUFFICIENTARIAN_AGGREGATED_seed_0_reference_1',\n",
       " 'SUFFICIENTARIAN_AGGREGATED_seed_0_reference_0',\n",
       " 'UTILITARIAN_AGGREGATED_seed_0_reference_3',\n",
       " 'UTILITARIAN_DISAGGREGATED_seed_0_reference_3']"
      ]
     },
     "execution_count": 3,
     "metadata": {},
     "output_type": "execute_result"
    }
   ],
   "source": [
    "target_directory = os.path.join(\n",
    "    os.path.dirname(os.path.dirname(os.getcwd())),\n",
    "    'data',\n",
    "    'experiments'\n",
    ")\n",
    "print(target_directory)\n",
    "files = os.listdir(target_directory)\n",
    "files"
   ]
  },
  {
   "cell_type": "markdown",
   "metadata": {
    "collapsed": false,
    "pycharm": {
     "name": "#%% md\n"
    }
   },
   "source": [
    "## Load all results in appropriate form"
   ]
  },
  {
   "cell_type": "code",
   "execution_count": 3,
   "metadata": {
    "collapsed": false,
    "pycharm": {
     "name": "#%%\n"
    }
   },
   "outputs": [],
   "source": [
    "seeds_dict = {}\n",
    "problem_formulations = {}\n",
    "\n",
    "for file in files:\n",
    "\n",
    "    # Define path to load data from\n",
    "    path = os.path.join(target_directory, file)\n",
    "\n",
    "    # Splitting terms\n",
    "    terms = file.split('_')\n",
    "    problem_formulation = terms[0] + '_' + terms[1]\n",
    "    seed_idx = terms[-1]\n",
    "\n",
    "    # Load results\n",
    "    experiments, outcomes = load_results(path)\n",
    "    outcomes = pd.DataFrame(outcomes)\n",
    "\n",
    "    # Save data\n",
    "    seeds_dict[seed_idx] = experiments, outcomes\n",
    "    problem_formulations[problem_formulation] = seeds_dict"
   ]
  },
  {
   "cell_type": "markdown",
   "metadata": {
    "collapsed": false,
    "pycharm": {
     "name": "#%% md\n"
    }
   },
   "source": [
    "## Visualization of KPI pathways grouped by seed"
   ]
  },
  {
   "cell_type": "code",
   "execution_count": null,
   "metadata": {
    "collapsed": false,
    "pycharm": {
     "is_executing": true,
     "name": "#%%\n"
    }
   },
   "outputs": [],
   "source": [
    "orientation = Orientation.HORIZONTAL\n",
    "name_orientation = orientation.name.lower()\n",
    "\n",
    "for problem_formulation, seeds_dict in problem_formulations.items():\n",
    "    plot_kpi_pathways_with_seeds(\n",
    "        seeds_dict=seeds_dict,\n",
    "        problem_formulation=problem_formulation,\n",
    "        plot_orientation=orientation,\n",
    "        saving=True,\n",
    "        file_name=f'seed_analysis_{problem_formulation}_{name_orientation}_test.png'\n",
    "    )"
   ]
  }
 ],
 "metadata": {
  "interpreter": {
   "hash": "e6320699dee5158e5961ffe9ba9bc6ceef4b6312d18d0ce0140fb05ee32d5d0a"
  },
  "kernelspec": {
   "display_name": "PyCharm (md_final)",
   "language": "python",
   "name": "python3"
  },
  "language_info": {
   "codemirror_mode": {
    "name": "ipython",
    "version": 3
   },
   "file_extension": ".py",
   "mimetype": "text/x-python",
   "name": "python",
   "nbconvert_exporter": "python",
   "pygments_lexer": "ipython3",
   "version": "3.9.10"
  }
 },
 "nbformat": 4,
 "nbformat_minor": 0
}
