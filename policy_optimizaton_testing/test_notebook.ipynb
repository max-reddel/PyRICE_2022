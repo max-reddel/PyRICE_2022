{
 "cells": [
  {
   "cell_type": "markdown",
   "metadata": {
    "collapsed": true,
    "pycharm": {
     "name": "#%% md\n"
    }
   },
   "source": [
    "# How to run optimization on PyRICE model\n",
    "\n",
    "This notebook provides an example of how to run the Optimization on PyRICE model and shows the main parameters and their domains.\n",
    "\n",
    "---"
   ]
  },
  {
   "cell_type": "code",
   "execution_count": 2,
   "metadata": {},
   "outputs": [
    {
     "name": "stdout",
     "output_type": "stream",
     "text": [
      "/Users/palokbiswas/Desktop/RICE/PyRICE_Max_New/PyRICE_2022\n"
     ]
    }
   ],
   "source": [
    "#Setting directory\n",
    "\n",
    "import os\n",
    "try:\n",
    "    os.chdir(os.path.join(os.getcwd(), '/Users/palokbiswas/Desktop/RICE/PyRICE_Max_New/PyRICE_2022')) # '.' if the path is to current folder\n",
    "    print(os.getcwd())\n",
    "except:\n",
    "    pass"
   ]
  },
  {
   "cell_type": "markdown",
   "metadata": {
    "collapsed": false,
    "pycharm": {
     "name": "#%% md\n"
    }
   },
   "source": [
    "## 1. Imports\n",
    "\n",
    "This module contains functions that support the run of an optimization.\n"
   ]
  },
  {
   "cell_type": "code",
   "execution_count": 4,
   "metadata": {
    "collapsed": false,
    "pycharm": {
     "name": "#%%\n"
    }
   },
   "outputs": [],
   "source": [
    "# Imports\n",
    "\n",
    "from model.pyrice import PyRICE\n",
    "from model.enumerations import *\n",
    "from dmdu.general.xlm_constants_epsilons import (\n",
    "    get_outcomes_and_epsilons,\n",
    "    get_xlc,\n",
    ")\n",
    "import os\n",
    "\n",
    "# EMA\n",
    "from ema_workbench.em_framework.optimization import EpsilonProgress, ArchiveLogger\n",
    "from ema_workbench import Model, MultiprocessingEvaluator, ema_logging\n",
    "\n",
    "ema_logging.log_to_stderr(ema_logging.INFO)\n",
    "\n"
   ]
  },
  {
   "cell_type": "code",
   "execution_count": 5,
   "metadata": {},
   "outputs": [],
   "source": [
    "def define_path_name(problem_formulation, nfe, seed_index, ref_index, directory=None, d_type=\"results\", searchover=None):\n",
    "    \"\"\"\n",
    "    Define path and file name such that it can be used to save results_formatted and/or covergence outcomes.\n",
    "    @param problem_formulation: ProblemFormulation\n",
    "    @param nfe: integer\n",
    "    @param seed_index: int\n",
    "    @param ref_index: int: number of current reference scenario/policy\n",
    "    @param directory: String: where to save results and covergence outcomes\n",
    "    @param d_type: string: {'results_formatted', 'convergence'}\n",
    "    @param searchover: String\n",
    "    @return:\n",
    "        path: string (path + file name that is used for saving_results)\n",
    "    \"\"\"\n",
    "\n",
    "    if d_type == 'results' or d_type == 'epsilon_progress':\n",
    "        file_name = f'{d_type}.csv'\n",
    "    elif d_type == 'hypervolume':\n",
    "        file_name = ''\n",
    "    else:\n",
    "        raise ValueError(\n",
    "            'You passed an unvalid d_type in order to save your resulting outcomes.'\n",
    "        )\n",
    "\n",
    "    if directory is None:\n",
    "        directory = get_directory(d_type, searchover, seed_index, problem_formulation, nfe, ref_index)\n",
    "\n",
    "    path = os.path.join(directory, file_name)\n",
    "\n",
    "    return path"
   ]
  },
  {
   "cell_type": "code",
   "execution_count": 6,
   "metadata": {},
   "outputs": [],
   "source": [
    "def get_directory(d_type, searchover, seed_index, problem_formulation, nfe, ref_index):\n",
    "    \"\"\"\n",
    "    Create a directory if necessary.\n",
    "    @return:\n",
    "        path: string\n",
    "    \"\"\"\n",
    "    reference_name = 'reference_scenario' if searchover == 'levers' else 'reference_policy'\n",
    "\n",
    "    directory = os.path.abspath(os.getcwd())\n",
    "    data_folder = 'data'\n",
    "    problem_folder = f'{problem_formulation.name}_{nfe}'\n",
    "    seed_folder = f'seed_{seed_index}'\n",
    "    scenario_folder = f'{reference_name}_{ref_index}'\n",
    "\n",
    "    if d_type == 'hypervolume':\n",
    "        sub_folder = d_type\n",
    "        path = os.path.join(directory, data_folder, problem_folder, seed_folder, scenario_folder, sub_folder)\n",
    "    else:\n",
    "        path = os.path.join(directory, data_folder, problem_folder, seed_folder, scenario_folder)\n",
    "\n",
    "    if not os.path.exists(path):\n",
    "        try:\n",
    "            os.makedirs(path)\n",
    "        except OSError:\n",
    "            print(\"Creation of the directory failed\")\n",
    "            raise\n",
    "\n",
    "    return path"
   ]
  },
  {
   "cell_type": "code",
   "execution_count": 7,
   "metadata": {},
   "outputs": [],
   "source": [
    "def run_optimization(\n",
    "    damage_function=DamageFunction.NORDHAUS,\n",
    "    problem_formulation=ProblemFormulation.UTILITARIAN_AGGREGATED,\n",
    "    nfe=5000,\n",
    "    searchover='levers',\n",
    "    seed_index=None,\n",
    "    reference=None,\n",
    "    saving_results=False,\n",
    "    with_convergence=False,\n",
    "):\n",
    "    \"\"\"\n",
    "    This function runs an optimization with the PyRICE model.\n",
    "    @param damage_function: DamageFunction\n",
    "    @param problem_formulation: ProblemFormulation\n",
    "    @param nfe: integer\n",
    "    @param searchover: String: {'levers', 'uncertainties'}\n",
    "    @param seed_index: int\n",
    "    @param reference: tuple with (index, Scenario/Policy object)\n",
    "    @param saving_results: Boolean: whether to save results_formatted or not\n",
    "    @param with_convergence: Boolean: whether to save convergence outcomes or not\n",
    "    \"\"\"\n",
    "    welfare_function, aggregation, _ = problem_formulation.value\n",
    "\n",
    "    # Instantiate the model\n",
    "    model_specification = ModelSpec.STANDARD\n",
    "\n",
    "    model = PyRICE(\n",
    "        model_specification=model_specification,\n",
    "        damage_function=damage_function,\n",
    "        welfare_function=welfare_function,\n",
    "    )\n",
    "\n",
    "    model = Model(\"RICE\", function=model)\n",
    "\n",
    "    model.uncertainties, model.levers, model.constants = get_xlc()\n",
    "    model.outcomes, epsilons = get_outcomes_and_epsilons(problem_formulation=problem_formulation, searchover=searchover)\n",
    "\n",
    "    # look at reference\n",
    "    if reference is None:\n",
    "        ref_index = 0\n",
    "    else:\n",
    "        ref_index = reference[0]\n",
    "        reference = reference[1]\n",
    "\n",
    "    # Run optimization\n",
    "    if with_convergence:\n",
    "\n",
    "        directory = define_path_name(\n",
    "            problem_formulation=problem_formulation,\n",
    "            nfe=nfe,\n",
    "            seed_index=seed_index,\n",
    "            ref_index=ref_index,\n",
    "            d_type=\"hypervolume\",\n",
    "            searchover=searchover\n",
    "        )\n",
    "        convergence_metrics = [\n",
    "            EpsilonProgress(),\n",
    "            ArchiveLogger(\n",
    "                directory,\n",
    "                [l.name for l in model.levers],\n",
    "                [o.name for o in model.outcomes if o.kind != o.INFO],\n",
    "            ),\n",
    "        ]\n",
    "\n",
    "        with MultiprocessingEvaluator(model) as evaluator:\n",
    "            results, convergence = evaluator.optimize(\n",
    "                nfe=nfe,\n",
    "                searchover=searchover,\n",
    "                epsilons=epsilons,\n",
    "                convergence=convergence_metrics,\n",
    "                reference=reference\n",
    "            )\n",
    "\n",
    "            if saving_results:\n",
    "                # Save results_formatted\n",
    "                path = define_path_name(\n",
    "                    problem_formulation=problem_formulation,\n",
    "                    nfe=nfe,\n",
    "                    seed_index=seed_index,\n",
    "                    ref_index=ref_index,\n",
    "                    d_type=\"results\",\n",
    "                    searchover=searchover,\n",
    "                )\n",
    "                results.to_csv(path)\n",
    "\n",
    "                # Save convergence\n",
    "                path = define_path_name(\n",
    "                    problem_formulation=problem_formulation,\n",
    "                    nfe=nfe,\n",
    "                    seed_index=seed_index,\n",
    "                    ref_index=ref_index,\n",
    "                    d_type=\"epsilon_progress\",\n",
    "                    searchover=searchover,\n",
    "                )\n",
    "                convergence.to_csv(path)\n",
    "\n",
    "    else:\n",
    "\n",
    "        with MultiprocessingEvaluator(model, n_processes=50) as evaluator:\n",
    "            results = evaluator.optimize(\n",
    "                nfe=nfe,\n",
    "                searchover=searchover,\n",
    "                epsilons=epsilons,\n",
    "                reference=reference\n",
    "            )\n",
    "\n",
    "            if saving_results:\n",
    "                path = define_path_name(\n",
    "                    problem_formulation=problem_formulation,\n",
    "                    nfe=nfe,\n",
    "                    seed_index=seed_index,\n",
    "                    ref_index=ref_index,\n",
    "                    d_type=\"results\",\n",
    "                    searchover=searchover,\n",
    "                )\n",
    "                results.to_csv(path)"
   ]
  },
  {
   "cell_type": "code",
   "execution_count": 9,
   "metadata": {},
   "outputs": [
    {
     "name": "stderr",
     "output_type": "stream",
     "text": [
      "[MainProcess/INFO] pool started with 50 workers\n",
      "5093it [02:18, 36.73it/s]                                                      \n",
      "[MainProcess/INFO] optimization completed, found 3 solutions\n",
      "[MainProcess/INFO] terminating pool\n"
     ]
    }
   ],
   "source": [
    "#changed from nfe 200000 to 5000 & searchover uncertainties to levers\n",
    "if __name__ == \"__main__\":\n",
    "\n",
    "    run_optimization(\n",
    "        damage_function=DamageFunction.NORDHAUS,\n",
    "        problem_formulation=ProblemFormulation.UTILITARIAN_AGGREGATED,\n",
    "        nfe=5000,\n",
    "        searchover=\"levers\",\n",
    "        saving_results=True,\n",
    "        with_convergence=False,\n",
    "    )"
   ]
  },
  {
   "cell_type": "code",
   "execution_count": null,
   "metadata": {},
   "outputs": [],
   "source": []
  }
 ],
 "metadata": {
  "interpreter": {
   "hash": "e6320699dee5158e5961ffe9ba9bc6ceef4b6312d18d0ce0140fb05ee32d5d0a"
  },
  "kernelspec": {
   "display_name": "PyCharm (md_final)",
   "language": "python",
   "name": "python3"
  },
  "language_info": {
   "codemirror_mode": {
    "name": "ipython",
    "version": 3
   },
   "file_extension": ".py",
   "mimetype": "text/x-python",
   "name": "python",
   "nbconvert_exporter": "python",
   "pygments_lexer": "ipython3",
   "version": "3.9.10"
  }
 },
 "nbformat": 4,
 "nbformat_minor": 0
}
